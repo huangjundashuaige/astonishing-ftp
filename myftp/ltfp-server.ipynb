{
 "cells": [
  {
   "cell_type": "code",
   "execution_count": 28,
   "metadata": {},
   "outputs": [],
   "source": [
    "import sys\n",
    "import struct\n",
    "import socket\n",
    "import os\n",
    "import json"
   ]
  },
  {
   "cell_type": "code",
   "execution_count": 12,
   "metadata": {},
   "outputs": [],
   "source": [
    "def args():\n",
    "    if len(sys.argv) ==3:\n",
    "        return dict({\"ip\":sys.argv[2].split(\":\")[0],\"port\":sys.argv[2].split(\":\")[1]})\n",
    "    elif len(sys.argv) ==2:\n",
    "        return dict({\"ip\":\"127.0.0.1\",\"port\":8888})\n",
    "    else:\n",
    "        raise Exception(\"wrong uausage\")"
   ]
  },
  {
   "cell_type": "code",
   "execution_count": null,
   "metadata": {},
   "outputs": [],
   "source": []
  },
  {
   "cell_type": "code",
   "execution_count": 9,
   "metadata": {},
   "outputs": [],
   "source": [
    "# global variable\n",
    "isDebug = True"
   ]
  },
  {
   "cell_type": "code",
   "execution_count": 10,
   "metadata": {},
   "outputs": [],
   "source": [
    "def log(message):\n",
    "    if isDebug:\n",
    "        print(message)"
   ]
  },
  {
   "cell_type": "code",
   "execution_count": 14,
   "metadata": {},
   "outputs": [],
   "source": [
    "def init():\n",
    "    try:\n",
    "        ipNport = args()\n",
    "        log(\"---init ftp server---\")\n",
    "        udpsock = socket.socket(socket.AF_INET4,socket.SOCK_DGRAM)\n",
    "        udpsock.bind((ipNport[\"ip\"],int(ipNport[\"port\"])))\n",
    "        log(\"server bind to %s : %d\".format(ipNport[\"ip\"],ipNport[\"port\"]))\n",
    "        return udpsock\n",
    "    except Exception as e:\n",
    "        print(e)"
   ]
  },
  {
   "cell_type": "code",
   "execution_count": 15,
   "metadata": {},
   "outputs": [
    {
     "name": "stdout",
     "output_type": "stream",
     "text": [
      "list index out of range\n"
     ]
    }
   ],
   "source": [
    "if __name__ == \"__main__\":\n",
    "    init()"
   ]
  },
  {
   "cell_type": "code",
   "execution_count": 36,
   "metadata": {},
   "outputs": [
    {
     "data": {
      "text/plain": [
       "1"
      ]
     },
     "execution_count": 36,
     "metadata": {},
     "output_type": "execute_result"
    }
   ],
   "source": [
    "eval(bytes(str({\"1\":1}),encoding='utf-8').decode())['1']"
   ]
  },
  {
   "cell_type": "code",
   "execution_count": null,
   "metadata": {},
   "outputs": [],
   "source": []
  }
 ],
 "metadata": {
  "kernelspec": {
   "display_name": "Python 3",
   "language": "python",
   "name": "python3"
  },
  "language_info": {
   "codemirror_mode": {
    "name": "ipython",
    "version": 3
   },
   "file_extension": ".py",
   "mimetype": "text/x-python",
   "name": "python",
   "nbconvert_exporter": "python",
   "pygments_lexer": "ipython3",
   "version": "3.7.0"
  }
 },
 "nbformat": 4,
 "nbformat_minor": 2
}
